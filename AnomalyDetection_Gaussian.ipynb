{
 "cells": [
  {
   "cell_type": "markdown",
   "metadata": {},
   "source": [
    "### Sources:\n",
    "https://towardsdatascience.com/andrew-ngs-machine-learning-course-in-python-anomaly-detection-1233d23dba95\n",
    "    \n",
    "https://github.com/Benlau93/Machine-Learning-by-Andrew-Ng-in-Python\n",
    "\n",
    "\n",
    "Problem: Unsupervised Anomaly Detection\n",
    "\n",
    "Technique: Gaussian (or normal) Distribution | Maximum Likelyhood \n",
    "\n",
    "Language: Python\n",
    "\n",
    "Library: Numpy\n",
    "\n",
    "Source: https://towardsdatascience.com/andrew-ngs-machine-learning-course-in-python-anomaly-detection-1233d23dba95\n",
    "\n",
    "Data at GitHub: https://github.com/Benlau93/Machine-Learning-by-Andrew-Ng-in-Python\n"
   ]
  },
  {
   "cell_type": "markdown",
   "metadata": {},
   "source": [
    "### Loading relevant libraries"
   ]
  },
  {
   "cell_type": "code",
   "execution_count": 1,
   "metadata": {},
   "outputs": [],
   "source": [
    "import numpy as np\n",
    "import matplotlib.pyplot as plt\n",
    "from scipy.io import loadmat"
   ]
  },
  {
   "cell_type": "markdown",
   "metadata": {},
   "source": [
    "### Load the dataset"
   ]
  },
  {
   "cell_type": "code",
   "execution_count": 3,
   "metadata": {},
   "outputs": [],
   "source": [
    "mat = loadmat(\"ex8data1.mat\")\n",
    "X = mat[\"X\"]\n",
    "Xval = mat[\"Xval\"]\n",
    "yval = mat[\"yval\"]"
   ]
  },
  {
   "cell_type": "markdown",
   "metadata": {},
   "source": [
    "### Visualizing the 2D data"
   ]
  },
  {
   "cell_type": "code",
   "execution_count": 4,
   "metadata": {},
   "outputs": [
    {
     "data": {
      "text/plain": [
       "Text(0, 0.5, 'Throughput (mb/s)')"
      ]
     },
     "execution_count": 4,
     "metadata": {},
     "output_type": "execute_result"
    },
    {
     "data": {
      "image/png": "[encoded data removed]",
      "text/plain": [
       "<Figure size 432x288 with 1 Axes>"
      ]
     },
     "metadata": {
      "needs_background": "light"
     },
     "output_type": "display_data"
    }
   ],
   "source": [
    "plt.scatter(X[:,0],X[:,1],marker=\"x\")\n",
    "plt.xlim(0,30)\n",
    "plt.ylim(0,30)\n",
    "plt.xlabel(\"Latency (ms)\")\n",
    "plt.ylabel(\"Throughput (mb/s)\")"
   ]
  },
  {
   "cell_type": "markdown",
   "metadata": {},
   "source": [
    "### Estimate parameters (mean and variance) for the Gaussian model"
   ]
  },
  {
   "cell_type": "code",
   "execution_count": 12,
   "metadata": {},
   "outputs": [],
   "source": [
    "def estimateGaussian(X):\n",
    "    \"\"\"\n",
    "     This function estimates the parameters of a Gaussian distribution using the data in X\n",
    "    \"\"\"\n",
    "    \n",
    "    m = X.shape[0]\n",
    "    \n",
    "    #compute mean\n",
    "    sum_ = np.sum(X,axis=0)\n",
    "    mu = 1/m *sum_\n",
    "    \n",
    "    # compute variance\n",
    "    var = 1/m * np.sum((X - mu)**2,axis=0)\n",
    "    \n",
    "    return mu,var\n",
    "\n",
    "mu, sigma2 = estimateGaussian(X)"
   ]
  },
  {
   "cell_type": "code",
   "execution_count": 14,
   "metadata": {},
   "outputs": [
    {
     "data": {
      "text/plain": [
       "array([1.83263141, 1.70974533])"
      ]
     },
     "execution_count": 14,
     "metadata": {},
     "output_type": "execute_result"
    }
   ],
   "source": [
    "sigma2"
   ]
  },
  {
   "cell_type": "markdown",
   "metadata": {},
   "source": [
    "### Probability for Multivariate Gaussian"
   ]
  },
  {
   "cell_type": "code",
   "execution_count": 15,
   "metadata": {},
   "outputs": [],
   "source": [
    "def multivariateGaussian(X, mu, sigma2):\n",
    "    \"\"\"\n",
    "    Computes the probability density function of the multivariate gaussian distribution.\n",
    "    \"\"\"\n",
    "    k = len(mu)\n",
    "    \n",
    "    sigma2=np.diag(sigma2)\n",
    "    X = X - mu.T\n",
    "    p = 1/((2*np.pi)**(k/2)*(np.linalg.det(sigma2)**0.5))* np.exp(-0.5* np.sum(X @ np.linalg.pinv(sigma2) * X,axis=1))\n",
    "    return p\n",
    "\n",
    "p = multivariateGaussian(X, mu, sigma2)"
   ]
  },
  {
   "cell_type": "markdown",
   "metadata": {},
   "source": [
    "### Visualize the Fit"
   ]
  },
  {
   "cell_type": "code",
   "execution_count": 99,
   "metadata": {},
   "outputs": [
    {
     "data": {
      "text/plain": [
       "Text(0, 0.5, 'Throughput (mb/s)')"
      ]
     },
     "execution_count": 99,
     "metadata": {},
     "output_type": "execute_result"
    },
    {
     "data": {
      "image/png": "[encoded data removed]",
      "text/plain": [
       "<Figure size 576x432 with 1 Axes>"
      ]
     },
     "metadata": {
      "needs_background": "light"
     },
     "output_type": "display_data"
    }
   ],
   "source": [
    "plt.figure(figsize=(8,6))\n",
    "plt.scatter(X[:,0],X[:,1],marker=\"x\")\n",
    "X1,X2 = np.meshgrid(np.linspace(0,35,num=70),np.linspace(0,35,num=70))\n",
    "p2 = multivariateGaussian(np.hstack((X1.flatten()[:,np.newaxis],X2.flatten()[:,np.newaxis])), mu, sigma2)\n",
    "contour_level = 10**np.array([np.arange(-20,0,3,dtype=np.float)]).T\n",
    "#plt.contour(X1,X2,p2[:,np.newaxis].reshape(X1.shape),contour_level)\n",
    "plt.contour(X1,X2,p2[:,np.newaxis].reshape(X1.shape))\n",
    "plt.xlim(0,35)\n",
    "plt.ylim(0,35)\n",
    "plt.xlabel(\"Latency (ms)\")\n",
    "plt.ylabel(\"Throughput (mb/s)\")"
   ]
  },
  {
   "cell_type": "code",
   "execution_count": 97,
   "metadata": {},
   "outputs": [
    {
     "data": {
      "text/plain": [
       "array([[1.e-20],\n",
       "       [1.e-17],\n",
       "       [1.e-14],\n",
       "       [1.e-11],\n",
       "       [1.e-08],\n",
       "       [1.e-05],\n",
       "       [1.e-02]])"
      ]
     },
     "execution_count": 97,
     "metadata": {},
     "output_type": "execute_result"
    }
   ],
   "source": [
    "contour_level"
   ]
  },
  {
   "cell_type": "markdown",
   "metadata": {},
   "source": [
    "### Now to select a threshold that will flag an example as anomalies."
   ]
  },
  {
   "cell_type": "code",
   "execution_count": 88,
   "metadata": {},
   "outputs": [
    {
     "name": "stdout",
     "output_type": "stream",
     "text": [
      "Best epsilon found using cross-validation: 8.990852779269495e-05\n",
      "Best F1 on Cross Validation Set: 0.8750000000000001\n"
     ]
    },
    {
     "name": "stderr",
     "output_type": "stream",
     "text": [
      "C:\\Users\\User\\anaconda3\\lib\\site-packages\\ipykernel_launcher.py:17: RuntimeWarning: invalid value encountered in long_scalars\n"
     ]
    }
   ],
   "source": [
    "def selectThreshold(yval, pval):\n",
    "    \"\"\"\n",
    "    Find the best threshold (epsilon) to use for selecting outliers\n",
    "    \"\"\"\n",
    "    best_epi = 0\n",
    "    best_F1 = 0\n",
    "    \n",
    "    stepsize = (max(pval) -min(pval))/1000\n",
    "    epi_range = np.arange(pval.min(),pval.max(),stepsize)\n",
    "    for epi in epi_range:\n",
    "        predictions = (pval<epi)[:,np.newaxis]\n",
    "        tp = np.sum(predictions[yval==1]==1)\n",
    "        fp = np.sum(predictions[yval==0]==1)\n",
    "        fn = np.sum(predictions[yval==1]==0)\n",
    "        \n",
    "        # compute precision, recall and F1\n",
    "        prec = tp/(tp+fp)\n",
    "        rec = tp/(tp+fn)\n",
    "        \n",
    "        F1 = (2*prec*rec)/(prec+rec)\n",
    "        \n",
    "        if F1 > best_F1:\n",
    "            best_F1 =F1\n",
    "            best_epi = epi\n",
    "        \n",
    "    return best_epi, best_F1\n",
    "\n",
    "pval = multivariateGaussian(Xval, mu, sigma2)\n",
    "epsilon, F1 = selectThreshold(yval, pval)\n",
    "print(\"Best epsilon found using cross-validation:\",epsilon)\n",
    "print(\"Best F1 on Cross Validation Set:\",F1)"
   ]
  },
  {
   "cell_type": "markdown",
   "metadata": {},
   "source": [
    "### Visualizing the optimal threshold"
   ]
  },
  {
   "cell_type": "code",
   "execution_count": 91,
   "metadata": {},
   "outputs": [
    {
     "data": {
      "text/plain": [
       "Text(0, 0.5, 'Throughput (mb/s)')"
      ]
     },
     "execution_count": 91,
     "metadata": {},
     "output_type": "execute_result"
    },
    {
     "data": {
      "image/png": "[encoded data removed]",
      "text/plain": [
       "<Figure size 576x432 with 1 Axes>"
      ]
     },
     "metadata": {
      "needs_background": "light"
     },
     "output_type": "display_data"
    }
   ],
   "source": [
    "plt.figure(figsize=(8,6))# plot the data\n",
    "\n",
    "plt.scatter(X[:,0],X[:,1],marker=\"x\")# potting of contour\n",
    "\n",
    "X1,X2 = np.meshgrid(np.linspace(0,35,num=70),np.linspace(0,35,num=70))\n",
    "p2 = multivariateGaussian(np.hstack((X1.flatten()[:,np.newaxis],X2.flatten()[:,np.newaxis])), mu, sigma2)\n",
    "contour_level = 10**np.array([np.arange(-20,0,3,dtype=np.float)]).T\n",
    "plt.contour(X1,X2,p2[:,np.newaxis].reshape(X1.shape))\n",
    "\n",
    "# Circling of anomalies\n",
    "outliers = np.nonzero(p<epsilon)[0]\n",
    "plt.scatter(X[outliers,0],X[outliers,1],marker =\"o\",facecolor=\"none\",edgecolor=\"r\",s=70)\n",
    "\n",
    "plt.xlim(0,35)\n",
    "plt.ylim(0,35)\n",
    "plt.xlabel(\"Latency (ms)\")\n",
    "plt.ylabel(\"Throughput (mb/s)\")"
   ]
  },
  {
   "cell_type": "markdown",
   "metadata": {},
   "source": [
    "### As for high dimensional dataset, we just have to follow the exact same steps as before"
   ]
  },
  {
   "cell_type": "code",
   "execution_count": 94,
   "metadata": {},
   "outputs": [
    {
     "name": "stdout",
     "output_type": "stream",
     "text": [
      "Best epsilon found using cross-validation: 1.3772288907613575e-18\n",
      "Best F1 on Cross Validation Set: 0.6153846153846154\n",
      "# Outliers found: 117\n"
     ]
    },
    {
     "name": "stderr",
     "output_type": "stream",
     "text": [
      "C:\\Users\\User\\anaconda3\\lib\\site-packages\\ipykernel_launcher.py:17: RuntimeWarning: invalid value encountered in long_scalars\n"
     ]
    }
   ],
   "source": [
    "mat2 = loadmat(\"ex8data2.mat\")\n",
    "X2 = mat2[\"X\"]\n",
    "Xval2 = mat2[\"Xval\"]\n",
    "yval2 = mat2[\"yval\"]\n",
    "\n",
    "# compute the mean and variance\n",
    "mu2, sigma2_2 = estimateGaussian(X2)\n",
    "\n",
    "# Training set\n",
    "p3 = multivariateGaussian(X2, mu2, sigma2_2)\n",
    "\n",
    "# cross-validation set\n",
    "pval2 = multivariateGaussian(Xval2, mu2, sigma2_2)\n",
    "\n",
    "# Find the best threshold\n",
    "epsilon2, F1_2 = selectThreshold(yval2, pval2)\n",
    "print(\"Best epsilon found using cross-validation:\",epsilon2)\n",
    "print(\"Best F1 on Cross Validation Set:\",F1_2)\n",
    "print(\"# Outliers found:\",np.sum(p3<epsilon2))"
   ]
  }
 ],
 "metadata": {
  "kernelspec": {
   "display_name": "Python 3",
   "language": "python",
   "name": "python3"
  },
  "language_info": {
   "codemirror_mode": {
    "name": "ipython",
    "version": 3
   },
   "file_extension": ".py",
   "mimetype": "text/x-python",
   "name": "python",
   "nbconvert_exporter": "python",
   "pygments_lexer": "ipython3",
   "version": "3.7.6"
  }
 },
 "nbformat": 4,
 "nbformat_minor": 4
}
